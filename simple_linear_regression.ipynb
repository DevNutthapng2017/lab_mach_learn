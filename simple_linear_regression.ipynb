{
 "cells": [
  {
   "cell_type": "code",
   "execution_count": 1,
   "metadata": {},
   "outputs": [],
   "source": [
    "import pandas as pd\n",
    "import seaborn as sns\n",
    "import numpy as np\n",
    "import matplotlib.pyplot as plt\n",
    "from scipy.fftpack import fft, ifft\n",
    "%matplotlib inline\n",
    "%config inlineBackend.figure_format = 'retina'"
   ]
  },
  {
   "cell_type": "code",
   "execution_count": 2,
   "metadata": {},
   "outputs": [
    {
     "name": "stdout",
     "output_type": "stream",
     "text": [
      "pandas version:1.4.2\n",
      "numpy version: 1.21.5\n",
      "seaborn version:0.11.2\n"
     ]
    }
   ],
   "source": [
    "print(f'pandas version:{pd.__version__}')\n",
    "print(f'numpy version: {np.__version__}')\n",
    "print(f'seaborn version:{sns.__version__}')"
   ]
  },
  {
   "cell_type": "markdown",
   "metadata": {},
   "source": [
    "กรณี run ไม่ผ่านใน url='' ให้เพิ่ม ?raw=true ไว้ท้าย link ที่เก็บไฟล์ csv\n",
    "When youreference a file on GitHub, you need to make sure you are accessing the \"raw\" version,\n",
    "not the version from the GitHub interface. Adding the ?raw=true parameter to your url should work:"
   ]
  },
  {
   "cell_type": "code",
   "execution_count": 4,
   "metadata": {},
   "outputs": [
    {
     "data": {
      "text/html": [
       "<div>\n",
       "<style scoped>\n",
       "    .dataframe tbody tr th:only-of-type {\n",
       "        vertical-align: middle;\n",
       "    }\n",
       "\n",
       "    .dataframe tbody tr th {\n",
       "        vertical-align: top;\n",
       "    }\n",
       "\n",
       "    .dataframe thead th {\n",
       "        text-align: right;\n",
       "    }\n",
       "</style>\n",
       "<table border=\"1\" class=\"dataframe\">\n",
       "  <thead>\n",
       "    <tr style=\"text-align: right;\">\n",
       "      <th></th>\n",
       "      <th>date</th>\n",
       "      <th>iso_a3</th>\n",
       "      <th>currency_code</th>\n",
       "      <th>name</th>\n",
       "      <th>local_price</th>\n",
       "      <th>dollar_ex</th>\n",
       "      <th>dollar_price</th>\n",
       "      <th>GDP_bigmac</th>\n",
       "      <th>adj_price</th>\n",
       "      <th>USD</th>\n",
       "      <th>EUR</th>\n",
       "      <th>GBP</th>\n",
       "      <th>JPY</th>\n",
       "      <th>CNY</th>\n",
       "    </tr>\n",
       "  </thead>\n",
       "  <tbody>\n",
       "    <tr>\n",
       "      <th>0</th>\n",
       "      <td>2000-04-01</td>\n",
       "      <td>ARG</td>\n",
       "      <td>ARS</td>\n",
       "      <td>Argentina</td>\n",
       "      <td>2.50</td>\n",
       "      <td>1.000000</td>\n",
       "      <td>2.500000</td>\n",
       "      <td>7803.328512</td>\n",
       "      <td>1.922652</td>\n",
       "      <td>0.39117</td>\n",
       "      <td>NaN</td>\n",
       "      <td>-0.06626</td>\n",
       "      <td>0.10096</td>\n",
       "      <td>0.97153</td>\n",
       "    </tr>\n",
       "    <tr>\n",
       "      <th>1</th>\n",
       "      <td>2000-04-01</td>\n",
       "      <td>AUS</td>\n",
       "      <td>AUD</td>\n",
       "      <td>Australia</td>\n",
       "      <td>2.59</td>\n",
       "      <td>1.680000</td>\n",
       "      <td>1.541667</td>\n",
       "      <td>29144.876973</td>\n",
       "      <td>2.301550</td>\n",
       "      <td>-0.28335</td>\n",
       "      <td>NaN</td>\n",
       "      <td>-0.51898</td>\n",
       "      <td>-0.43285</td>\n",
       "      <td>0.01563</td>\n",
       "    </tr>\n",
       "    <tr>\n",
       "      <th>2</th>\n",
       "      <td>2000-04-01</td>\n",
       "      <td>BRA</td>\n",
       "      <td>BRL</td>\n",
       "      <td>Brazil</td>\n",
       "      <td>2.95</td>\n",
       "      <td>1.790000</td>\n",
       "      <td>1.648045</td>\n",
       "      <td>4822.738983</td>\n",
       "      <td>1.869734</td>\n",
       "      <td>-0.05696</td>\n",
       "      <td>NaN</td>\n",
       "      <td>-0.36704</td>\n",
       "      <td>-0.25369</td>\n",
       "      <td>0.33645</td>\n",
       "    </tr>\n",
       "    <tr>\n",
       "      <th>3</th>\n",
       "      <td>2000-04-01</td>\n",
       "      <td>GBR</td>\n",
       "      <td>GBP</td>\n",
       "      <td>Britain</td>\n",
       "      <td>1.90</td>\n",
       "      <td>0.632911</td>\n",
       "      <td>3.002000</td>\n",
       "      <td>20932.924968</td>\n",
       "      <td>2.155755</td>\n",
       "      <td>0.48988</td>\n",
       "      <td>NaN</td>\n",
       "      <td>0.00000</td>\n",
       "      <td>0.17908</td>\n",
       "      <td>1.11143</td>\n",
       "    </tr>\n",
       "    <tr>\n",
       "      <th>4</th>\n",
       "      <td>2000-04-01</td>\n",
       "      <td>CAN</td>\n",
       "      <td>CAD</td>\n",
       "      <td>Canada</td>\n",
       "      <td>2.85</td>\n",
       "      <td>1.470000</td>\n",
       "      <td>1.938776</td>\n",
       "      <td>26087.329235</td>\n",
       "      <td>2.247266</td>\n",
       "      <td>-0.07698</td>\n",
       "      <td>NaN</td>\n",
       "      <td>-0.38047</td>\n",
       "      <td>-0.26953</td>\n",
       "      <td>0.30809</td>\n",
       "    </tr>\n",
       "  </tbody>\n",
       "</table>\n",
       "</div>"
      ],
      "text/plain": [
       "        date iso_a3 currency_code       name  local_price  dollar_ex  \\\n",
       "0 2000-04-01    ARG           ARS  Argentina         2.50   1.000000   \n",
       "1 2000-04-01    AUS           AUD  Australia         2.59   1.680000   \n",
       "2 2000-04-01    BRA           BRL     Brazil         2.95   1.790000   \n",
       "3 2000-04-01    GBR           GBP    Britain         1.90   0.632911   \n",
       "4 2000-04-01    CAN           CAD     Canada         2.85   1.470000   \n",
       "\n",
       "   dollar_price    GDP_bigmac  adj_price      USD  EUR      GBP      JPY  \\\n",
       "0      2.500000   7803.328512   1.922652  0.39117  NaN -0.06626  0.10096   \n",
       "1      1.541667  29144.876973   2.301550 -0.28335  NaN -0.51898 -0.43285   \n",
       "2      1.648045   4822.738983   1.869734 -0.05696  NaN -0.36704 -0.25369   \n",
       "3      3.002000  20932.924968   2.155755  0.48988  NaN  0.00000  0.17908   \n",
       "4      1.938776  26087.329235   2.247266 -0.07698  NaN -0.38047 -0.26953   \n",
       "\n",
       "       CNY  \n",
       "0  0.97153  \n",
       "1  0.01563  \n",
       "2  0.33645  \n",
       "3  1.11143  \n",
       "4  0.30809  "
      ]
     },
     "execution_count": 4,
     "metadata": {},
     "output_type": "execute_result"
    }
   ],
   "source": [
    "url='https://github.com/TheEconomist/big-mac-data/blob/master/output-data/big-mac-adjusted-index.csv?raw=true'\n",
    "df=pd.read_csv(url, parse_dates=['date']) ## parse_date เพื่อไม่ให้ค่าเป็น string\n",
    "df.head()"
   ]
  },
  {
   "cell_type": "code",
   "execution_count": 5,
   "metadata": {},
   "outputs": [
    {
     "name": "stdout",
     "output_type": "stream",
     "text": [
      "<class 'pandas.core.frame.DataFrame'>\n",
      "RangeIndex: 1386 entries, 0 to 1385\n",
      "Data columns (total 14 columns):\n",
      " #   Column         Non-Null Count  Dtype         \n",
      "---  ------         --------------  -----         \n",
      " 0   date           1386 non-null   datetime64[ns]\n",
      " 1   iso_a3         1386 non-null   object        \n",
      " 2   currency_code  1386 non-null   object        \n",
      " 3   name           1386 non-null   object        \n",
      " 4   local_price    1386 non-null   float64       \n",
      " 5   dollar_ex      1386 non-null   float64       \n",
      " 6   dollar_price   1386 non-null   float64       \n",
      " 7   GDP_bigmac     1386 non-null   float64       \n",
      " 8   adj_price      1386 non-null   float64       \n",
      " 9   USD            1386 non-null   float64       \n",
      " 10  EUR            1359 non-null   float64       \n",
      " 11  GBP            1386 non-null   float64       \n",
      " 12  JPY            1386 non-null   float64       \n",
      " 13  CNY            1386 non-null   float64       \n",
      "dtypes: datetime64[ns](1), float64(10), object(3)\n",
      "memory usage: 151.7+ KB\n"
     ]
    }
   ],
   "source": [
    "df.info()"
   ]
  },
  {
   "cell_type": "markdown",
   "metadata": {},
   "source": [
    "กำหนดค่าที่ต้องการดู วัน เดือน 1 ปี 2019"
   ]
  },
  {
   "cell_type": "code",
   "execution_count": 6,
   "metadata": {},
   "outputs": [
    {
     "data": {
      "text/html": [
       "<div>\n",
       "<style scoped>\n",
       "    .dataframe tbody tr th:only-of-type {\n",
       "        vertical-align: middle;\n",
       "    }\n",
       "\n",
       "    .dataframe tbody tr th {\n",
       "        vertical-align: top;\n",
       "    }\n",
       "\n",
       "    .dataframe thead th {\n",
       "        text-align: right;\n",
       "    }\n",
       "</style>\n",
       "<table border=\"1\" class=\"dataframe\">\n",
       "  <thead>\n",
       "    <tr style=\"text-align: right;\">\n",
       "      <th></th>\n",
       "      <th>date</th>\n",
       "      <th>iso_a3</th>\n",
       "      <th>currency_code</th>\n",
       "      <th>name</th>\n",
       "      <th>local_price</th>\n",
       "      <th>dollar_ex</th>\n",
       "      <th>dollar_price</th>\n",
       "      <th>GDP_bigmac</th>\n",
       "      <th>adj_price</th>\n",
       "      <th>USD</th>\n",
       "      <th>EUR</th>\n",
       "      <th>GBP</th>\n",
       "      <th>JPY</th>\n",
       "      <th>CNY</th>\n",
       "    </tr>\n",
       "  </thead>\n",
       "  <tbody>\n",
       "    <tr>\n",
       "      <th>1021</th>\n",
       "      <td>2019-01-01</td>\n",
       "      <td>ARG</td>\n",
       "      <td>ARS</td>\n",
       "      <td>Argentina</td>\n",
       "      <td>75.00</td>\n",
       "      <td>37.455000</td>\n",
       "      <td>2.002403</td>\n",
       "      <td>20810.978188</td>\n",
       "      <td>3.399753</td>\n",
       "      <td>-0.43098</td>\n",
       "      <td>-0.50205</td>\n",
       "      <td>-0.39927</td>\n",
       "      <td>-0.29817</td>\n",
       "      <td>-0.37617</td>\n",
       "    </tr>\n",
       "    <tr>\n",
       "      <th>1022</th>\n",
       "      <td>2019-01-01</td>\n",
       "      <td>AUS</td>\n",
       "      <td>AUD</td>\n",
       "      <td>Australia</td>\n",
       "      <td>6.10</td>\n",
       "      <td>1.401640</td>\n",
       "      <td>4.352045</td>\n",
       "      <td>58098.493185</td>\n",
       "      <td>4.422256</td>\n",
       "      <td>-0.04923</td>\n",
       "      <td>-0.16798</td>\n",
       "      <td>0.00375</td>\n",
       "      <td>0.17267</td>\n",
       "      <td>0.04235</td>\n",
       "    </tr>\n",
       "    <tr>\n",
       "      <th>1023</th>\n",
       "      <td>2019-01-01</td>\n",
       "      <td>BRA</td>\n",
       "      <td>BRL</td>\n",
       "      <td>Brazil</td>\n",
       "      <td>16.90</td>\n",
       "      <td>3.717950</td>\n",
       "      <td>4.545516</td>\n",
       "      <td>9362.536049</td>\n",
       "      <td>3.085813</td>\n",
       "      <td>0.42311</td>\n",
       "      <td>0.24536</td>\n",
       "      <td>0.50241</td>\n",
       "      <td>0.75525</td>\n",
       "      <td>0.56019</td>\n",
       "    </tr>\n",
       "    <tr>\n",
       "      <th>1024</th>\n",
       "      <td>2019-01-01</td>\n",
       "      <td>GBR</td>\n",
       "      <td>GBP</td>\n",
       "      <td>Britain</td>\n",
       "      <td>3.19</td>\n",
       "      <td>0.783208</td>\n",
       "      <td>4.072992</td>\n",
       "      <td>48323.923768</td>\n",
       "      <td>4.154216</td>\n",
       "      <td>-0.05279</td>\n",
       "      <td>-0.17109</td>\n",
       "      <td>0.00000</td>\n",
       "      <td>0.16829</td>\n",
       "      <td>0.03846</td>\n",
       "    </tr>\n",
       "    <tr>\n",
       "      <th>1025</th>\n",
       "      <td>2019-01-01</td>\n",
       "      <td>CAN</td>\n",
       "      <td>CAD</td>\n",
       "      <td>Canada</td>\n",
       "      <td>6.77</td>\n",
       "      <td>1.331400</td>\n",
       "      <td>5.084873</td>\n",
       "      <td>42034.227332</td>\n",
       "      <td>3.981740</td>\n",
       "      <td>0.23376</td>\n",
       "      <td>0.07967</td>\n",
       "      <td>0.30252</td>\n",
       "      <td>0.52171</td>\n",
       "      <td>0.35260</td>\n",
       "    </tr>\n",
       "  </tbody>\n",
       "</table>\n",
       "</div>"
      ],
      "text/plain": [
       "           date iso_a3 currency_code       name  local_price  dollar_ex  \\\n",
       "1021 2019-01-01    ARG           ARS  Argentina        75.00  37.455000   \n",
       "1022 2019-01-01    AUS           AUD  Australia         6.10   1.401640   \n",
       "1023 2019-01-01    BRA           BRL     Brazil        16.90   3.717950   \n",
       "1024 2019-01-01    GBR           GBP    Britain         3.19   0.783208   \n",
       "1025 2019-01-01    CAN           CAD     Canada         6.77   1.331400   \n",
       "\n",
       "      dollar_price    GDP_bigmac  adj_price      USD      EUR      GBP  \\\n",
       "1021      2.002403  20810.978188   3.399753 -0.43098 -0.50205 -0.39927   \n",
       "1022      4.352045  58098.493185   4.422256 -0.04923 -0.16798  0.00375   \n",
       "1023      4.545516   9362.536049   3.085813  0.42311  0.24536  0.50241   \n",
       "1024      4.072992  48323.923768   4.154216 -0.05279 -0.17109  0.00000   \n",
       "1025      5.084873  42034.227332   3.981740  0.23376  0.07967  0.30252   \n",
       "\n",
       "          JPY      CNY  \n",
       "1021 -0.29817 -0.37617  \n",
       "1022  0.17267  0.04235  \n",
       "1023  0.75525  0.56019  \n",
       "1024  0.16829  0.03846  \n",
       "1025  0.52171  0.35260  "
      ]
     },
     "execution_count": 6,
     "metadata": {},
     "output_type": "execute_result"
    }
   ],
   "source": [
    "df=df[(df['date'].dt.year==2019) & (df['date'].dt.month==1)]\n",
    "df.head()"
   ]
  },
  {
   "cell_type": "markdown",
   "metadata": {},
   "source": [
    "fun seaborn สร้างตัวแปรมารับค่า ที่ต้องการให้แสดงเพื่อสร้างกราฟ"
   ]
  },
  {
   "cell_type": "code",
   "execution_count": 12,
   "metadata": {},
   "outputs": [
    {
     "data": {
      "text/plain": [
       "<seaborn.axisgrid.FacetGrid at 0x7ff002b2f2b0>"
      ]
     },
     "execution_count": 12,
     "metadata": {},
     "output_type": "execute_result"
    },
    {
     "data": {
      "image/png": "[encoded data removed]",
      "text/plain": [
       "<Figure size 360x360 with 1 Axes>"
      ]
     },
     "metadata": {
      "needs_background": "light"
     },
     "output_type": "display_data"
    }
   ],
   "source": [
    "sns.lmplot(x='GDP_bigmac', y='dollar_price', data=df, ci=None)"
   ]
  },
  {
   "cell_type": "code",
   "execution_count": 10,
   "metadata": {},
   "outputs": [
    {
     "data": {
      "text/plain": [
       "<seaborn.axisgrid.JointGrid at 0x7ff002a63ee0>"
      ]
     },
     "execution_count": 10,
     "metadata": {},
     "output_type": "execute_result"
    },
    {
     "data": {
      "image/png": "[encoded data removed]",
      "text/plain": [
       "<Figure size 432x432 with 3 Axes>"
      ]
     },
     "metadata": {
      "needs_background": "light"
     },
     "output_type": "display_data"
    }
   ],
   "source": [
    "sns.jointplot(x='GDP_bigmac', y='dollar_price',data=df,kind='reg',ci=None)"
   ]
  },
  {
   "cell_type": "markdown",
   "metadata": {},
   "source": [
    "##sklearn: LinearRegression"
   ]
  },
  {
   "cell_type": "code",
   "execution_count": 13,
   "metadata": {},
   "outputs": [],
   "source": [
    "import sklearn\n",
    "from sklearn.linear_model import LinearRegression"
   ]
  },
  {
   "cell_type": "code",
   "execution_count": 14,
   "metadata": {},
   "outputs": [
    {
     "name": "stdout",
     "output_type": "stream",
     "text": [
      "sklearn version: 1.0.2\n"
     ]
    }
   ],
   "source": [
    "print(f'sklearn version: {sklearn.__version__}')"
   ]
  },
  {
   "cell_type": "markdown",
   "metadata": {},
   "source": [
    "สร้าง obj {model} เพื่อผ่านค่าพารามิเตอร์"
   ]
  },
  {
   "cell_type": "code",
   "execution_count": 15,
   "metadata": {},
   "outputs": [
    {
     "data": {
      "text/plain": [
       "LinearRegression()"
      ]
     },
     "execution_count": 15,
     "metadata": {},
     "output_type": "execute_result"
    }
   ],
   "source": [
    "model = LinearRegression()\n",
    "model"
   ]
  },
  {
   "cell_type": "markdown",
   "metadata": {},
   "source": [
    "ผ่านค่าเข้าไปแบบ array 2 มิติ"
   ]
  },
  {
   "cell_type": "code",
   "execution_count": 16,
   "metadata": {},
   "outputs": [
    {
     "data": {
      "text/plain": [
       "1021    20810.978188\n",
       "1022    58098.493185\n",
       "1023     9362.536049\n",
       "1024    48323.923768\n",
       "1025    42034.227332\n",
       "1026    18014.007593\n",
       "1027    14684.528808\n",
       "1028     8101.496446\n",
       "1029    28252.359106\n",
       "1030    61193.362480\n",
       "1031     5381.090102\n",
       "1032    39944.916991\n",
       "1033    89178.723636\n",
       "1034    24590.421905\n",
       "1035     3697.193379\n",
       "1036     8017.422572\n",
       "1037    41860.346370\n",
       "1038    53111.178465\n",
       "1039    23268.115608\n",
       "1040    18042.461852\n",
       "1041    46896.028892\n",
       "1042    62881.591456\n",
       "1043     1913.084987\n",
       "1044    10332.342251\n",
       "1045     5810.261080\n",
       "1046    25059.293931\n",
       "1047    30251.237299\n",
       "1048    35970.358705\n",
       "1049    73232.278614\n",
       "1050    14049.528435\n",
       "1051    38498.441108\n",
       "1052    42749.285684\n",
       "1053    61473.801918\n",
       "1054    53173.029630\n",
       "1055     9334.129259\n",
       "1056    20082.768770\n",
       "1057    62769.664000\n",
       "Name: GDP_bigmac, dtype: float64"
      ]
     },
     "execution_count": 16,
     "metadata": {},
     "output_type": "execute_result"
    }
   ],
   "source": [
    "df['GDP_bigmac'] ##การส่งข้อมูลแบบอนุกรม (serial transmission)"
   ]
  },
  {
   "cell_type": "code",
   "execution_count": 17,
   "metadata": {},
   "outputs": [
    {
     "data": {
      "text/html": [
       "<div>\n",
       "<style scoped>\n",
       "    .dataframe tbody tr th:only-of-type {\n",
       "        vertical-align: middle;\n",
       "    }\n",
       "\n",
       "    .dataframe tbody tr th {\n",
       "        vertical-align: top;\n",
       "    }\n",
       "\n",
       "    .dataframe thead th {\n",
       "        text-align: right;\n",
       "    }\n",
       "</style>\n",
       "<table border=\"1\" class=\"dataframe\">\n",
       "  <thead>\n",
       "    <tr style=\"text-align: right;\">\n",
       "      <th></th>\n",
       "      <th>GDP_bigmac</th>\n",
       "    </tr>\n",
       "  </thead>\n",
       "  <tbody>\n",
       "    <tr>\n",
       "      <th>1021</th>\n",
       "      <td>20810.978188</td>\n",
       "    </tr>\n",
       "    <tr>\n",
       "      <th>1022</th>\n",
       "      <td>58098.493185</td>\n",
       "    </tr>\n",
       "    <tr>\n",
       "      <th>1023</th>\n",
       "      <td>9362.536049</td>\n",
       "    </tr>\n",
       "    <tr>\n",
       "      <th>1024</th>\n",
       "      <td>48323.923768</td>\n",
       "    </tr>\n",
       "    <tr>\n",
       "      <th>1025</th>\n",
       "      <td>42034.227332</td>\n",
       "    </tr>\n",
       "    <tr>\n",
       "      <th>1026</th>\n",
       "      <td>18014.007593</td>\n",
       "    </tr>\n",
       "    <tr>\n",
       "      <th>1027</th>\n",
       "      <td>14684.528808</td>\n",
       "    </tr>\n",
       "    <tr>\n",
       "      <th>1028</th>\n",
       "      <td>8101.496446</td>\n",
       "    </tr>\n",
       "    <tr>\n",
       "      <th>1029</th>\n",
       "      <td>28252.359106</td>\n",
       "    </tr>\n",
       "    <tr>\n",
       "      <th>1030</th>\n",
       "      <td>61193.362480</td>\n",
       "    </tr>\n",
       "    <tr>\n",
       "      <th>1031</th>\n",
       "      <td>5381.090102</td>\n",
       "    </tr>\n",
       "    <tr>\n",
       "      <th>1032</th>\n",
       "      <td>39944.916991</td>\n",
       "    </tr>\n",
       "    <tr>\n",
       "      <th>1033</th>\n",
       "      <td>89178.723636</td>\n",
       "    </tr>\n",
       "    <tr>\n",
       "      <th>1034</th>\n",
       "      <td>24590.421905</td>\n",
       "    </tr>\n",
       "    <tr>\n",
       "      <th>1035</th>\n",
       "      <td>3697.193379</td>\n",
       "    </tr>\n",
       "    <tr>\n",
       "      <th>1036</th>\n",
       "      <td>8017.422572</td>\n",
       "    </tr>\n",
       "    <tr>\n",
       "      <th>1037</th>\n",
       "      <td>41860.346370</td>\n",
       "    </tr>\n",
       "    <tr>\n",
       "      <th>1038</th>\n",
       "      <td>53111.178465</td>\n",
       "    </tr>\n",
       "    <tr>\n",
       "      <th>1039</th>\n",
       "      <td>23268.115608</td>\n",
       "    </tr>\n",
       "    <tr>\n",
       "      <th>1040</th>\n",
       "      <td>18042.461852</td>\n",
       "    </tr>\n",
       "    <tr>\n",
       "      <th>1041</th>\n",
       "      <td>46896.028892</td>\n",
       "    </tr>\n",
       "    <tr>\n",
       "      <th>1042</th>\n",
       "      <td>62881.591456</td>\n",
       "    </tr>\n",
       "    <tr>\n",
       "      <th>1043</th>\n",
       "      <td>1913.084987</td>\n",
       "    </tr>\n",
       "    <tr>\n",
       "      <th>1044</th>\n",
       "      <td>10332.342251</td>\n",
       "    </tr>\n",
       "    <tr>\n",
       "      <th>1045</th>\n",
       "      <td>5810.261080</td>\n",
       "    </tr>\n",
       "    <tr>\n",
       "      <th>1046</th>\n",
       "      <td>25059.293931</td>\n",
       "    </tr>\n",
       "    <tr>\n",
       "      <th>1047</th>\n",
       "      <td>30251.237299</td>\n",
       "    </tr>\n",
       "    <tr>\n",
       "      <th>1048</th>\n",
       "      <td>35970.358705</td>\n",
       "    </tr>\n",
       "    <tr>\n",
       "      <th>1049</th>\n",
       "      <td>73232.278614</td>\n",
       "    </tr>\n",
       "    <tr>\n",
       "      <th>1050</th>\n",
       "      <td>14049.528435</td>\n",
       "    </tr>\n",
       "    <tr>\n",
       "      <th>1051</th>\n",
       "      <td>38498.441108</td>\n",
       "    </tr>\n",
       "    <tr>\n",
       "      <th>1052</th>\n",
       "      <td>42749.285684</td>\n",
       "    </tr>\n",
       "    <tr>\n",
       "      <th>1053</th>\n",
       "      <td>61473.801918</td>\n",
       "    </tr>\n",
       "    <tr>\n",
       "      <th>1054</th>\n",
       "      <td>53173.029630</td>\n",
       "    </tr>\n",
       "    <tr>\n",
       "      <th>1055</th>\n",
       "      <td>9334.129259</td>\n",
       "    </tr>\n",
       "    <tr>\n",
       "      <th>1056</th>\n",
       "      <td>20082.768770</td>\n",
       "    </tr>\n",
       "    <tr>\n",
       "      <th>1057</th>\n",
       "      <td>62769.664000</td>\n",
       "    </tr>\n",
       "  </tbody>\n",
       "</table>\n",
       "</div>"
      ],
      "text/plain": [
       "        GDP_bigmac\n",
       "1021  20810.978188\n",
       "1022  58098.493185\n",
       "1023   9362.536049\n",
       "1024  48323.923768\n",
       "1025  42034.227332\n",
       "1026  18014.007593\n",
       "1027  14684.528808\n",
       "1028   8101.496446\n",
       "1029  28252.359106\n",
       "1030  61193.362480\n",
       "1031   5381.090102\n",
       "1032  39944.916991\n",
       "1033  89178.723636\n",
       "1034  24590.421905\n",
       "1035   3697.193379\n",
       "1036   8017.422572\n",
       "1037  41860.346370\n",
       "1038  53111.178465\n",
       "1039  23268.115608\n",
       "1040  18042.461852\n",
       "1041  46896.028892\n",
       "1042  62881.591456\n",
       "1043   1913.084987\n",
       "1044  10332.342251\n",
       "1045   5810.261080\n",
       "1046  25059.293931\n",
       "1047  30251.237299\n",
       "1048  35970.358705\n",
       "1049  73232.278614\n",
       "1050  14049.528435\n",
       "1051  38498.441108\n",
       "1052  42749.285684\n",
       "1053  61473.801918\n",
       "1054  53173.029630\n",
       "1055   9334.129259\n",
       "1056  20082.768770\n",
       "1057  62769.664000"
      ]
     },
     "execution_count": 17,
     "metadata": {},
     "output_type": "execute_result"
    }
   ],
   "source": [
    "df[['GDP_bigmac']] ##จะส่งข้อมูลแบบ Data Frame(df)"
   ]
  },
  {
   "cell_type": "code",
   "execution_count": 18,
   "metadata": {},
   "outputs": [
    {
     "data": {
      "text/plain": [
       "LinearRegression()"
      ]
     },
     "execution_count": 18,
     "metadata": {},
     "output_type": "execute_result"
    }
   ],
   "source": [
    "model.fit(df[['GDP_bigmac']],df['dollar_price'])"
   ]
  },
  {
   "cell_type": "code",
   "execution_count": 19,
   "metadata": {},
   "outputs": [],
   "source": [
    "X=df[['GDP_bigmac']] # expect 2 D array not series (1D)\n",
    "y=df.dollar_price"
   ]
  },
  {
   "cell_type": "code",
   "execution_count": 20,
   "metadata": {},
   "outputs": [
    {
     "data": {
      "text/plain": [
       "LinearRegression()"
      ]
     },
     "execution_count": 20,
     "metadata": {},
     "output_type": "execute_result"
    }
   ],
   "source": [
    "model.fit(X,y) #syntex กำหนดให้ใช้ค่า X ตัวใหญ่"
   ]
  },
  {
   "cell_type": "code",
   "execution_count": 21,
   "metadata": {},
   "outputs": [
    {
     "data": {
      "text/plain": [
       "0.23519741311775022"
      ]
     },
     "execution_count": 21,
     "metadata": {},
     "output_type": "execute_result"
    }
   ],
   "source": [
    "model.score(X,y) #เมื่อผ่านค่า X ,y จะได้ค่า R-squard"
   ]
  },
  {
   "cell_type": "code",
   "execution_count": 22,
   "metadata": {},
   "outputs": [
    {
     "data": {
      "text/plain": [
       "2.714978656576098"
      ]
     },
     "execution_count": 22,
     "metadata": {},
     "output_type": "execute_result"
    }
   ],
   "source": [
    "model.intercept_"
   ]
  },
  {
   "cell_type": "code",
   "execution_count": 23,
   "metadata": {},
   "outputs": [
    {
     "data": {
      "text/plain": [
       "array([2.59773624e-05])"
      ]
     },
     "execution_count": 23,
     "metadata": {},
     "output_type": "execute_result"
    }
   ],
   "source": [
    "model.coef_"
   ]
  },
  {
   "cell_type": "markdown",
   "metadata": {},
   "source": [
    "สมการเส้นตรง y = α + βx"
   ]
  },
  {
   "cell_type": "code",
   "execution_count": 24,
   "metadata": {},
   "outputs": [
    {
     "data": {
      "text/plain": [
       "array([2.94877492])"
      ]
     },
     "execution_count": 24,
     "metadata": {},
     "output_type": "execute_result"
    }
   ],
   "source": [
    "model.intercept_ + model.coef_ * 9000 ##หาประเทศที่ีมี GDP=9000"
   ]
  },
  {
   "cell_type": "code",
   "execution_count": 25,
   "metadata": {},
   "outputs": [
    {
     "name": "stderr",
     "output_type": "stream",
     "text": [
      "/usr/local/anaconda3/lib/python3.9/site-packages/sklearn/base.py:450: UserWarning: X does not have valid feature names, but LinearRegression was fitted with feature names\n",
      "  warnings.warn(\n"
     ]
    },
    {
     "data": {
      "text/plain": [
       "array([2.94877492])"
      ]
     },
     "execution_count": 25,
     "metadata": {},
     "output_type": "execute_result"
    }
   ],
   "source": [
    "model.predict([[9000]]) ## ใช้ func sklearn กรณี array 2 มิติแต่ผ่านค่าค่าเดียว 1 row , 1 clolumn ให้ใช้ [[]]"
   ]
  },
  {
   "cell_type": "code",
   "execution_count": 26,
   "metadata": {},
   "outputs": [
    {
     "name": "stderr",
     "output_type": "stream",
     "text": [
      "/usr/local/anaconda3/lib/python3.9/site-packages/sklearn/base.py:450: UserWarning: X does not have valid feature names, but LinearRegression was fitted with feature names\n",
      "  warnings.warn(\n"
     ]
    },
    {
     "data": {
      "text/plain": [
       "array([2.94877492, 2.81888811])"
      ]
     },
     "execution_count": 26,
     "metadata": {},
     "output_type": "execute_result"
    }
   ],
   "source": [
    "model.predict([[9000],\n",
    "               [4000]]) # 1row , 2 clolumn ,2 D"
   ]
  },
  {
   "cell_type": "code",
   "execution_count": 27,
   "metadata": {},
   "outputs": [
    {
     "data": {
      "text/plain": [
       "array([ 5000,  7500, 10000, 12500, 15000, 17500, 20000, 22500, 25000,\n",
       "       27500, 30000, 32500, 35000, 37500, 40000, 42500, 45000, 47500,\n",
       "       50000])"
      ]
     },
     "execution_count": 27,
     "metadata": {},
     "output_type": "execute_result"
    }
   ],
   "source": [
    "np.arange(5000 , 50001, 2500) # array ที่มีค่าตั้งแต่ 5000 - 50000 step ทีละ 2500 array 1 D"
   ]
  },
  {
   "cell_type": "code",
   "execution_count": 28,
   "metadata": {},
   "outputs": [
    {
     "data": {
      "text/plain": [
       "array([[ 5000],\n",
       "       [ 7500],\n",
       "       [10000],\n",
       "       [12500],\n",
       "       [15000],\n",
       "       [17500],\n",
       "       [20000],\n",
       "       [22500],\n",
       "       [25000],\n",
       "       [27500],\n",
       "       [30000],\n",
       "       [32500],\n",
       "       [35000],\n",
       "       [37500],\n",
       "       [40000],\n",
       "       [42500],\n",
       "       [45000],\n",
       "       [47500],\n",
       "       [50000]])"
      ]
     },
     "execution_count": 28,
     "metadata": {},
     "output_type": "execute_result"
    }
   ],
   "source": [
    "np.arange(5000, 50001, 2500) .reshape(-1,1) #เขียนให้อยู่ในรูปแบบ array 2  D ,(n)row ,1 column ด้วยการ predict ต้องทำให้อยู่ในรูป (-1,1)"
   ]
  },
  {
   "cell_type": "code",
   "execution_count": 29,
   "metadata": {},
   "outputs": [
    {
     "name": "stderr",
     "output_type": "stream",
     "text": [
      "/usr/local/anaconda3/lib/python3.9/site-packages/sklearn/base.py:450: UserWarning: X does not have valid feature names, but LinearRegression was fitted with feature names\n",
      "  warnings.warn(\n"
     ]
    },
    {
     "data": {
      "text/plain": [
       "array([2.84486547, 2.90980887, 2.97475228, 3.03969569, 3.10463909,\n",
       "       3.1695825 , 3.23452591, 3.29946931, 3.36441272, 3.42935612,\n",
       "       3.49429953, 3.55924294, 3.62418634, 3.68912975, 3.75407315,\n",
       "       3.81901656, 3.88395997, 3.94890337, 4.01384678])"
      ]
     },
     "execution_count": 29,
     "metadata": {},
     "output_type": "execute_result"
    }
   ],
   "source": [
    "model.predict(np.arange(5000, 50001, 2500).reshape(-1,1)) ##เขียนในแบบ predict"
   ]
  },
  {
   "cell_type": "code",
   "execution_count": 30,
   "metadata": {},
   "outputs": [
    {
     "data": {
      "text/plain": [
       "array([ 5000.        ,  7368.42105263,  9736.84210526, 12105.26315789,\n",
       "       14473.68421053, 16842.10526316, 19210.52631579, 21578.94736842,\n",
       "       23947.36842105, 26315.78947368, 28684.21052632, 31052.63157895,\n",
       "       33421.05263158, 35789.47368421, 38157.89473684, 40526.31578947,\n",
       "       42894.73684211, 45263.15789474, 47631.57894737, 50000.        ])"
      ]
     },
     "execution_count": 30,
     "metadata": {},
     "output_type": "execute_result"
    }
   ],
   "source": [
    "np.linspace(5000, 50000, 20)"
   ]
  },
  {
   "cell_type": "code",
   "execution_count": 31,
   "metadata": {},
   "outputs": [
    {
     "data": {
      "text/plain": [
       "array([[ 5000.        ],\n",
       "       [ 7368.42105263],\n",
       "       [ 9736.84210526],\n",
       "       [12105.26315789],\n",
       "       [14473.68421053],\n",
       "       [16842.10526316],\n",
       "       [19210.52631579],\n",
       "       [21578.94736842],\n",
       "       [23947.36842105],\n",
       "       [26315.78947368],\n",
       "       [28684.21052632],\n",
       "       [31052.63157895],\n",
       "       [33421.05263158],\n",
       "       [35789.47368421],\n",
       "       [38157.89473684],\n",
       "       [40526.31578947],\n",
       "       [42894.73684211],\n",
       "       [45263.15789474],\n",
       "       [47631.57894737],\n",
       "       [50000.        ]])"
      ]
     },
     "execution_count": 31,
     "metadata": {},
     "output_type": "execute_result"
    }
   ],
   "source": [
    "np.linspace(5000, 50000, 20).reshape(-1,1)"
   ]
  },
  {
   "cell_type": "code",
   "execution_count": 32,
   "metadata": {},
   "outputs": [
    {
     "name": "stderr",
     "output_type": "stream",
     "text": [
      "/usr/local/anaconda3/lib/python3.9/site-packages/sklearn/base.py:450: UserWarning: X does not have valid feature names, but LinearRegression was fitted with feature names\n",
      "  warnings.warn(\n"
     ]
    },
    {
     "data": {
      "text/plain": [
       "array([2.84486547, 2.9063908 , 2.96791613, 3.02944146, 3.0909668 ,\n",
       "       3.15249213, 3.21401746, 3.27554279, 3.33706813, 3.39859346,\n",
       "       3.46011879, 3.52164412, 3.58316945, 3.64469479, 3.70622012,\n",
       "       3.76774545, 3.82927078, 3.89079611, 3.95232145, 4.01384678])"
      ]
     },
     "execution_count": 32,
     "metadata": {},
     "output_type": "execute_result"
    }
   ],
   "source": [
    "model.predict(np.linspace(5000, 50000, 20).reshape(-1,1))"
   ]
  },
  {
   "cell_type": "code",
   "execution_count": 33,
   "metadata": {},
   "outputs": [
    {
     "data": {
      "text/plain": [
       "0      5000.000000\n",
       "1      7368.421053\n",
       "2      9736.842105\n",
       "3     12105.263158\n",
       "4     14473.684211\n",
       "5     16842.105263\n",
       "6     19210.526316\n",
       "7     21578.947368\n",
       "8     23947.368421\n",
       "9     26315.789474\n",
       "10    28684.210526\n",
       "11    31052.631579\n",
       "12    33421.052632\n",
       "13    35789.473684\n",
       "14    38157.894737\n",
       "15    40526.315789\n",
       "16    42894.736842\n",
       "17    45263.157895\n",
       "18    47631.578947\n",
       "19    50000.000000\n",
       "dtype: float64"
      ]
     },
     "execution_count": 33,
     "metadata": {},
     "output_type": "execute_result"
    }
   ],
   "source": [
    "s=pd.Series(np.linspace(5000, 50000, 20)) ## sklearn\n",
    "s"
   ]
  },
  {
   "cell_type": "code",
   "execution_count": 34,
   "metadata": {},
   "outputs": [
    {
     "name": "stderr",
     "output_type": "stream",
     "text": [
      "/usr/local/anaconda3/lib/python3.9/site-packages/sklearn/base.py:450: UserWarning: X does not have valid feature names, but LinearRegression was fitted with feature names\n",
      "  warnings.warn(\n"
     ]
    },
    {
     "data": {
      "text/plain": [
       "array([2.84486547, 2.9063908 , 2.96791613, 3.02944146, 3.0909668 ,\n",
       "       3.15249213, 3.21401746, 3.27554279, 3.33706813, 3.39859346,\n",
       "       3.46011879, 3.52164412, 3.58316945, 3.64469479, 3.70622012,\n",
       "       3.76774545, 3.82927078, 3.89079611, 3.95232145, 4.01384678])"
      ]
     },
     "execution_count": 34,
     "metadata": {},
     "output_type": "execute_result"
    }
   ],
   "source": [
    "##แปลงค่าจาก sklearn กลับมาเป็น predict\n",
    "model.predict(s.to_frame())"
   ]
  },
  {
   "cell_type": "markdown",
   "metadata": {},
   "source": [
    "Statsmodels: Simple Linear regression"
   ]
  },
  {
   "cell_type": "code",
   "execution_count": 41,
   "metadata": {},
   "outputs": [],
   "source": [
    "import statsmodels.api as sm \n",
    "import statsmodels.formula.api as smf \n",
    "import numpy as np\n",
    "import pandas as pd\n"
   ]
  },
  {
   "cell_type": "code",
   "execution_count": 43,
   "metadata": {},
   "outputs": [],
   "source": [
    "#formula: response - predictor + predictor\n",
    "model_a=smf.ols(formula='dollar_price ~ GDP_bigmac', data=df).fit() # ใช้เครื่องหมาย ~ "
   ]
  },
  {
   "cell_type": "code",
   "execution_count": 44,
   "metadata": {},
   "outputs": [
    {
     "name": "stdout",
     "output_type": "stream",
     "text": [
      "                            OLS Regression Results                            \n",
      "==============================================================================\n",
      "Dep. Variable:           dollar_price   R-squared:                       0.235\n",
      "Model:                            OLS   Adj. R-squared:                  0.213\n",
      "Method:                 Least Squares   F-statistic:                     10.76\n",
      "Date:                Mon, 03 Oct 2022   Prob (F-statistic):            0.00235\n",
      "Time:                        10:48:51   Log-Likelihood:                -54.004\n",
      "No. Observations:                  37   AIC:                             112.0\n",
      "Df Residuals:                      35   BIC:                             115.2\n",
      "Df Model:                           1                                         \n",
      "Covariance Type:            nonrobust                                         \n",
      "==============================================================================\n",
      "                 coef    std err          t      P>|t|      [0.025      0.975]\n",
      "------------------------------------------------------------------------------\n",
      "Intercept      2.7150      0.313      8.669      0.000       2.079       3.351\n",
      "GDP_bigmac  2.598e-05   7.92e-06      3.281      0.002     9.9e-06    4.21e-05\n",
      "==============================================================================\n",
      "Omnibus:                        0.232   Durbin-Watson:                   1.881\n",
      "Prob(Omnibus):                  0.890   Jarque-Bera (JB):                0.017\n",
      "Skew:                          -0.052   Prob(JB):                        0.992\n",
      "Kurtosis:                       2.990   Cond. No.                     7.04e+04\n",
      "==============================================================================\n",
      "\n",
      "Notes:\n",
      "[1] Standard Errors assume that the covariance matrix of the errors is correctly specified.\n",
      "[2] The condition number is large, 7.04e+04. This might indicate that there are\n",
      "strong multicollinearity or other numerical problems.\n"
     ]
    }
   ],
   "source": [
    "print(model_a.summary())"
   ]
  },
  {
   "cell_type": "code",
   "execution_count": 45,
   "metadata": {},
   "outputs": [
    {
     "data": {
      "text/plain": [
       "Intercept     3.099333e-10\n",
       "GDP_bigmac    2.348908e-03\n",
       "dtype: float64"
      ]
     },
     "execution_count": 45,
     "metadata": {},
     "output_type": "execute_result"
    }
   ],
   "source": [
    "model_a.pvalues"
   ]
  },
  {
   "cell_type": "code",
   "execution_count": 46,
   "metadata": {},
   "outputs": [
    {
     "data": {
      "text/plain": [
       "2.714978656576098"
      ]
     },
     "execution_count": 46,
     "metadata": {},
     "output_type": "execute_result"
    }
   ],
   "source": [
    "model.intercept_ #sklearn"
   ]
  },
  {
   "cell_type": "code",
   "execution_count": 47,
   "metadata": {},
   "outputs": [
    {
     "data": {
      "text/plain": [
       "array([2.59773624e-05])"
      ]
     },
     "execution_count": 47,
     "metadata": {},
     "output_type": "execute_result"
    }
   ],
   "source": [
    "model.coef_"
   ]
  }
 ],
 "metadata": {
  "kernelspec": {
   "display_name": "Python 3.9.12 64-bit ('anaconda3')",
   "language": "python",
   "name": "python3"
  },
  "language_info": {
   "codemirror_mode": {
    "name": "ipython",
    "version": 3
   },
   "file_extension": ".py",
   "mimetype": "text/x-python",
   "name": "python",
   "nbconvert_exporter": "python",
   "pygments_lexer": "ipython3",
   "version": "3.9.12"
  },
  "orig_nbformat": 4,
  "vscode": {
   "interpreter": {
    "hash": "3067ead486e059ec00ffe7555bdb889e6e264a24dc711bf108106cc7baee8d5d"
   }
  }
 },
 "nbformat": 4,
 "nbformat_minor": 2
}
